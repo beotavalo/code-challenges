{
  "cells": [
    {
      "cell_type": "markdown",
      "metadata": {
        "colab_type": "text",
        "id": "view-in-github"
      },
      "source": [
        "<a href=\"https://colab.research.google.com/github/beotavalo/code-challenges/blob/main/HackerRank_Python_Solution.ipynb\" target=\"_parent\"><img src=\"https://colab.research.google.com/assets/colab-badge.svg\" alt=\"Open In Colab\"/></a>"
      ]
    },
    {
      "cell_type": "markdown",
      "metadata": {
        "id": "oiv3iuD6-d9t"
      },
      "source": [
        "### **List Comprehension**\n",
        "**Problem**\n",
        "\n",
        "You are given three integers X, Y and Z representing the dimensions of a cuboid along with an integer N. You have to print a list of all possible coordinates given by (i,j,k) on a 3D grid where the sum of i + j + k is not equal to N. Here, 0 <= i <= X; 0 <= j <= Y; 0 <= k <= Z\n",
        "\n",
        "**Input Format**\n",
        "\n",
        "Four integers X, Y, X and Y each on four separate lines, respectively.\n",
        "```python\n",
        "#Sample Input :\n",
        "1\n",
        "1\n",
        "1\n",
        "2\n",
        "```\n",
        "**Constraints**\n",
        "Print the list in lexicographic increasing order.\n",
        "\n",
        "**Output Format**\n",
        "Output the answer as explained in the task.\n",
        "```python\n",
        "#Sample Output :\n",
        "[[0, 0, 0], [0, 0, 1], [0, 1, 0], [1, 0, 0], [1, 1, 1]]\n",
        "```"
      ]
    },
    {
      "cell_type": "markdown",
      "metadata": {
        "id": "26q6Vm1k_9b0"
      },
      "source": [
        "**Solution 1**\n",
        "\n",
        "Multiple list comprehension"
      ]
    },
    {
      "cell_type": "code",
      "execution_count": null,
      "metadata": {
        "colab": {
          "base_uri": "https://localhost:8080/"
        },
        "id": "DKB9IQMYrVXk",
        "outputId": "3e21fb69-0b01-4534-e584-1597d5d7865b"
      },
      "outputs": [
        {
          "name": "stdout",
          "output_type": "stream",
          "text": [
            "<class 'list'>\n"
          ]
        }
      ],
      "source": [
        "def get_coordinates(x:int, y:int, z:int, n:int)->list:\n",
        "    X = [i for i in range(x+1)]\n",
        "    Y = [j for j in range(y+1)]\n",
        "    Z = [k for k in range(z+1)]\n",
        "    permuted_coordinated_list = [[i, j, k] for i in X for j in Y for k in Z if i + j + k != n]\n",
        "    return permuted_coordinated_list\n",
        "if __name__ == '__main__':\n",
        "    x = int(input())\n",
        "    y = int(input())\n",
        "    z = int(input())\n",
        "    n = int(input())\n",
        "    print(get_coordinates(x, y, z, n))"
      ]
    },
    {
      "cell_type": "markdown",
      "metadata": {
        "id": "YOXucZYRAFsE"
      },
      "source": [
        "**Solution 2**\n",
        "\n",
        "Optimal solution"
      ]
    },
    {
      "cell_type": "code",
      "execution_count": 4,
      "metadata": {
        "colab": {
          "base_uri": "https://localhost:8080/"
        },
        "id": "LMkiXU8D_-bT",
        "outputId": "d6d8309d-397b-4aae-926d-617991ffb524"
      },
      "outputs": [
        {
          "name": "stdout",
          "output_type": "stream",
          "text": [
            "[[0, 0, 0], [0, 0, 1], [0, 0, 2], [0, 1, 0], [0, 1, 1], [0, 2, 0], [0, 2, 2], [1, 0, 0], [1, 0, 1], [1, 1, 0], [1, 1, 2], [1, 2, 1], [1, 2, 2]]\n"
          ]
        }
      ],
      "source": [
        "def get_coordinates(x:int, y:int, z:int, n:int)->list:\n",
        "  return [[i,j,k] for i in range(x+1) for j in range(y+1) for k in range(z+1) if (i+j+k)!=n]\n",
        "if __name__ == '__main__':\n",
        "    x = int(input())\n",
        "    y = int(input())\n",
        "    z = int(input())\n",
        "    n = int(input())\n",
        "    print(get_coordinates(x, y, z, n))"
      ]
    },
    {
      "cell_type": "markdown",
      "metadata": {},
      "source": [
        "### Find the Runner-Up Score! "
      ]
    },
    {
      "cell_type": "markdown",
      "metadata": {},
      "source": [
        "Given the participants’ score sheet for your University Sports Day, you are required to find the runner-up score. You are given n scores. Store them in a list and find the score of the runner-up.\n",
        "\n",
        "Input Format\n",
        "\n",
        "The first line contains $n$. The second line contains an array $A []$ of n integers each separated by a space.\n",
        "\n",
        "**Constraints**\n",
        "\n",
        "*   $2<=n<=10$\n",
        "*   $-100<=A[i]<=100$\n",
        "\n",
        "\n",
        "\n",
        "\n",
        "**Output Format**\n",
        "\n",
        "Print the runner-up score.\n",
        "\n",
        "```\n",
        "Sample Input 0\n",
        "5\n",
        "2 3 6 6 5\n",
        "```\n",
        "```\n",
        "Sample Output 0\n",
        "5\n",
        "```\n",
        "**Explanation**\n",
        "\n",
        "Given list is $[2,3,6,6,5]$. The maximum score is $6$ , second maximum is $5$. Hence, we print $5$ as the *runner-up score*."
      ]
    },
    {
      "cell_type": "markdown",
      "metadata": {},
      "source": [
        "**Solution 1**\n",
        "\n",
        "Without checkin input conditions"
      ]
    },
    {
      "cell_type": "code",
      "execution_count": 1,
      "metadata": {},
      "outputs": [
        {
          "name": "stdout",
          "output_type": "stream",
          "text": [
            "3\n"
          ]
        }
      ],
      "source": [
        "def get_runnerup_score(arr)->int:\n",
        "  arr = sorted(arr, reverse=True)\n",
        "  runner_up = arr[0]\n",
        "  for i in arr:\n",
        "    if i < runner_up:\n",
        "      runner_up = i\n",
        "      break\n",
        "  return runner_up\n",
        "if __name__ == '__main__':\n",
        "    n = int(input())\n",
        "    arr = map(int, input().split())\n",
        "    print(get_runnerup_score(arr))"
      ]
    },
    {
      "cell_type": "markdown",
      "metadata": {},
      "source": [
        "Checking input condition "
      ]
    },
    {
      "cell_type": "code",
      "execution_count": 2,
      "metadata": {},
      "outputs": [
        {
          "name": "stdout",
          "output_type": "stream",
          "text": [
            "Input successful!\n",
            "n = 2\n",
            "arr = [3, 4]\n"
          ]
        }
      ],
      "source": [
        "try:\n",
        "    n_str = input()\n",
        "    n = int(n_str)\n",
        "    if not (1 <= n <= 10):\n",
        "        raise ValueError(\"Constraint Violated: n must be between 1 and 10 (inclusive).\")\n",
        "\n",
        "    arr_str = input()\n",
        "    arr_strs = arr_str.split()\n",
        "    if len(arr_strs) != n:\n",
        "        raise ValueError(f\"Constraint Violated: The array must contain exactly {n} integers.\")\n",
        "\n",
        "    arr = []\n",
        "    for item_str in arr_strs:\n",
        "        try:\n",
        "            num = int(item_str)\n",
        "            if not (-100 <= num <= 100):\n",
        "                raise ValueError(f\"Constraint Violated: Each element in the array must be between -100 and 100 (inclusive). Invalid element: {num}\")\n",
        "            arr.append(num)\n",
        "        except ValueError:\n",
        "            raise ValueError(f\"Invalid input: Could not convert '{item_str}' to an integer in the array.\")\n",
        "\n",
        "    # If all conditions are met, you can now work with 'n' and the integer array 'arr'\n",
        "    print(\"Input successful!\")\n",
        "    print(f\"n = {n}\")\n",
        "    print(f\"arr = {arr}\")\n",
        "\n",
        "except ValueError as e:\n",
        "    print(f\"Error processing input: {e}\")\n",
        "except Exception as e:\n",
        "    print(f\"An unexpected error occurred: {e}\")"
      ]
    }
  ],
  "metadata": {
    "colab": {
      "authorship_tag": "ABX9TyN0bfkgr3rNxJ2Ut2JeMHGv",
      "include_colab_link": true,
      "provenance": []
    },
    "kernelspec": {
      "display_name": "py_env",
      "language": "python",
      "name": "python3"
    },
    "language_info": {
      "codemirror_mode": {
        "name": "ipython",
        "version": 3
      },
      "file_extension": ".py",
      "mimetype": "text/x-python",
      "name": "python",
      "nbconvert_exporter": "python",
      "pygments_lexer": "ipython3",
      "version": "3.12.9"
    }
  },
  "nbformat": 4,
  "nbformat_minor": 0
}
