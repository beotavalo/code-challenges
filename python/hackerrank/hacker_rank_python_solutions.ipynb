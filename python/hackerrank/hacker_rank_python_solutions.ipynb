{
  "cells": [
    {
      "cell_type": "markdown",
      "metadata": {
        "colab_type": "text",
        "id": "view-in-github"
      },
      "source": [
        "<a href=\"https://colab.research.google.com/github/beotavalo/code-challenges/blob/main/HackerRank_Python_Solution.ipynb\" target=\"_parent\"><img src=\"https://colab.research.google.com/assets/colab-badge.svg\" alt=\"Open In Colab\"/></a>"
      ]
    },
    {
      "cell_type": "markdown",
      "metadata": {
        "id": "oiv3iuD6-d9t"
      },
      "source": [
        "### **List Comprehension**\n",
        "**Problem**\n",
        "\n",
        "You are given three integers X, Y and Z representing the dimensions of a cuboid along with an integer N. You have to print a list of all possible coordinates given by (i,j,k) on a 3D grid where the sum of i + j + k is not equal to N. Here, 0 <= i <= X; 0 <= j <= Y; 0 <= k <= Z\n",
        "\n",
        "**Input Format**\n",
        "\n",
        "Four integers X, Y, X and Y each on four separate lines, respectively.\n",
        "```python\n",
        "#Sample Input :\n",
        "1\n",
        "1\n",
        "1\n",
        "2\n",
        "```\n",
        "**Constraints**\n",
        "Print the list in lexicographic increasing order.\n",
        "\n",
        "**Output Format**\n",
        "Output the answer as explained in the task.\n",
        "```python\n",
        "#Sample Output :\n",
        "[[0, 0, 0], [0, 0, 1], [0, 1, 0], [1, 0, 0], [1, 1, 1]]\n",
        "```"
      ]
    },
    {
      "cell_type": "markdown",
      "metadata": {
        "id": "26q6Vm1k_9b0"
      },
      "source": [
        "**Solution 1**\n",
        "\n",
        "Multiple list comprehension"
      ]
    },
    {
      "cell_type": "code",
      "execution_count": 2,
      "metadata": {
        "colab": {
          "base_uri": "https://localhost:8080/"
        },
        "id": "DKB9IQMYrVXk",
        "outputId": "3e21fb69-0b01-4534-e584-1597d5d7865b"
      },
      "outputs": [
        {
          "name": "stdout",
          "output_type": "stream",
          "text": [
            "<class 'list'>\n"
          ]
        }
      ],
      "source": [
        "def get_coordinates(x:int, y:int, z:int, n:int)->list:\n",
        "    X = [i for i in range(x+1)]\n",
        "    Y = [j for j in range(y+1)]\n",
        "    Z = [k for k in range(z+1)]\n",
        "    permuted_coordinated_list = [[i, j, k] for i in X for j in Y for k in Z if i + j + k != n]\n",
        "    return permuted_coordinated_list\n",
        "if __name__ == '__main__':\n",
        "    x = int(input())\n",
        "    y = int(input())\n",
        "    z = int(input())\n",
        "    n = int(input())\n",
        "    print(type(get_coordinates(x, y, z, n)))"
      ]
    },
    {
      "cell_type": "markdown",
      "metadata": {
        "id": "YOXucZYRAFsE"
      },
      "source": [
        "**Solution 2**\n",
        "\n",
        "Optimal solution"
      ]
    },
    {
      "cell_type": "code",
      "execution_count": 4,
      "metadata": {
        "colab": {
          "base_uri": "https://localhost:8080/"
        },
        "id": "LMkiXU8D_-bT",
        "outputId": "d6d8309d-397b-4aae-926d-617991ffb524"
      },
      "outputs": [
        {
          "name": "stdout",
          "output_type": "stream",
          "text": [
            "[[0, 0, 0], [0, 0, 1], [0, 0, 2], [0, 1, 0], [0, 1, 1], [0, 2, 0], [0, 2, 2], [1, 0, 0], [1, 0, 1], [1, 1, 0], [1, 1, 2], [1, 2, 1], [1, 2, 2]]\n"
          ]
        }
      ],
      "source": [
        "def get_coordinates(x:int, y:int, z:int, n:int)->list:\n",
        "  return [[i,j,k] for i in range(x+1) for j in range(y+1) for k in range(z+1) if (i+j+k)!=n]\n",
        "if __name__ == '__main__':\n",
        "    x = int(input())\n",
        "    y = int(input())\n",
        "    z = int(input())\n",
        "    n = int(input())\n",
        "    print(get_coordinates(x, y, z, n))"
      ]
    }
  ],
  "metadata": {
    "colab": {
      "authorship_tag": "ABX9TyN0bfkgr3rNxJ2Ut2JeMHGv",
      "include_colab_link": true,
      "provenance": []
    },
    "kernelspec": {
      "display_name": "py_env",
      "language": "python",
      "name": "python3"
    },
    "language_info": {
      "codemirror_mode": {
        "name": "ipython",
        "version": 3
      },
      "file_extension": ".py",
      "mimetype": "text/x-python",
      "name": "python",
      "nbconvert_exporter": "python",
      "pygments_lexer": "ipython3",
      "version": "3.12.9"
    }
  },
  "nbformat": 4,
  "nbformat_minor": 0
}
